{
  "nbformat": 4,
  "nbformat_minor": 0,
  "metadata": {
    "colab": {
      "name": "exercises.ipynb",
      "version": "0.3.2",
      "provenance": []
    },
    "kernelspec": {
      "display_name": "Python 3",
      "language": "python",
      "name": "python3"
    }
  },
  "cells": [
    {
      "metadata": {
        "autoscroll": false,
        "ein.hycell": false,
        "ein.tags": "worksheet-0",
        "id": "xI7YTPdcANQl",
        "colab_type": "code",
        "colab": {}
      },
      "cell_type": "code",
      "source": [
        "# Our jupyter/datascience-notebook Docker container comes with \n",
        "# BeautifulSoup4 and requests, both popular libraries!\n",
        "\n",
        "from bs4 import BeautifulSoup\n",
        "import requests"
      ],
      "execution_count": 0,
      "outputs": []
    },
    {
      "metadata": {
        "autoscroll": false,
        "ein.hycell": false,
        "ein.tags": "worksheet-0",
        "id": "lV7cffNMANQq",
        "colab_type": "code",
        "colab": {}
      },
      "cell_type": "code",
      "source": [
        "START_URL = 'https://brickset.com/sets/year-2016'"
      ],
      "execution_count": 0,
      "outputs": []
    },
    {
      "metadata": {
        "autoscroll": false,
        "ein.hycell": false,
        "ein.tags": "worksheet-0",
        "id": "Igjod2zMANQv",
        "colab_type": "code",
        "colab": {}
      },
      "cell_type": "code",
      "source": [
        "def get_titles(soup):    \n",
        "    \"\"\" Returns a list of titles on the page \"\"\"\n",
        "    # the \"soup\" parameter is of the type that is\n",
        "    # returned by Beautiful Soup when it parses HTML.\n",
        "    # The function should then use the object to\n",
        "    # extract a list of titles (of the lego sets)\n",
        "    # Grab each product\n",
        "    metas = soup.findAll(\"div\", {\"class\":\"meta\"})\n",
        "    # Grab each title\n",
        "    titles = []\n",
        "    for meta in metas:\n",
        "        titles.append(meta.h1.text)  \n",
        "    # Lookup the documentation for Beautiful Soup\n",
        "    # Figure out how to select the text of the title\n",
        "    # of each legoset. A title should look like: \n",
        "    # \"10252: Volkswagen Beetle\"\n",
        "    return titles\n",
        "\n",
        "def parse_bricks(url):\n",
        "    \"\"\" Fetches Lego Bricks page and extracts titles \"\"\"\n",
        "    # Lookup the documentation to the \"requests\" library\n",
        "    # Use requests to make a get request to the\n",
        "    # url given in the argument \"url\" (which is a string)\n",
        "    # and get the raw HTML body of the response\n",
        "    r = requests.get(url)\n",
        "    # Use \"BeautifulSoup\" to parse this HTML. \n",
        "    soup = BeautifulSoup(r.text, \"html.parser\")\n",
        "    # Use the \"get_titles\" function to extract the\n",
        "    # titles from the BeautifulSoup object.\n",
        "    titles = get_titles(soup)\n",
        "    # Return the titles\n",
        "    return titles"
      ],
      "execution_count": 0,
      "outputs": []
    },
    {
      "metadata": {
        "autoscroll": false,
        "ein.hycell": false,
        "ein.tags": "worksheet-0",
        "id": "BdW17nbWANQx",
        "colab_type": "code",
        "colab": {}
      },
      "cell_type": "code",
      "source": [
        "bricks = parse_bricks(START_URL)"
      ],
      "execution_count": 0,
      "outputs": []
    },
    {
      "metadata": {
        "id": "EpIK-LveANQ0",
        "colab_type": "code",
        "colab": {},
        "outputId": "2991dd5f-9650-424e-92bb-892089d1b47d"
      },
      "cell_type": "code",
      "source": [
        "bricks"
      ],
      "execution_count": 0,
      "outputs": [
        {
          "output_type": "execute_result",
          "data": {
            "text/plain": [
              "['10251:  Brick Bank',\n",
              " '10252:  Volkswagen Beetle',\n",
              " '10253:  Big Ben',\n",
              " '10254:  Winter Holiday Train',\n",
              " '10654:  XL Creative Brick Box',\n",
              " '10702:  Creative Building Set',\n",
              " '10705:  Creative Building Basket',\n",
              " '10720:  Police Helicopter Chase',\n",
              " '10721:  Iron Man vs. Loki',\n",
              " '10722:  Snake Showdown',\n",
              " \"10723:  Ariel's Dolphin Carriage\",\n",
              " '10724:  Batman & Superman vs. Lex Luthor',\n",
              " '10725:  Lost Temple',\n",
              " \"10726:  Stephanie's Horse Carriage\",\n",
              " \"10727:  Emma's Ice Cream Truck\",\n",
              " \"10728:  Mia's Vet Clinic\",\n",
              " \"10729:  Cinderella's Carriage\",\n",
              " '10801:  Baby Animals',\n",
              " '10802:  Savanna',\n",
              " '10803:  Arctic',\n",
              " '10804:  Jungle',\n",
              " '10805:  Around the World',\n",
              " '10806:  Horses',\n",
              " '10807:  Horse Trailer',\n",
              " '10808:  Little Plane']"
            ]
          },
          "metadata": {
            "tags": []
          },
          "execution_count": 5
        }
      ]
    },
    {
      "metadata": {
        "autoscroll": false,
        "ein.hycell": false,
        "ein.tags": "worksheet-0",
        "id": "mmXtTuSAANQ6",
        "colab_type": "code",
        "colab": {}
      },
      "cell_type": "code",
      "source": [
        "assert(bricks[0] == '10251:  Brick Bank')\n",
        "assert(bricks[9] == '10722:  Snake Showdown')"
      ],
      "execution_count": 0,
      "outputs": []
    },
    {
      "metadata": {
        "id": "6bC2cyGaANQ8",
        "colab_type": "code",
        "colab": {}
      },
      "cell_type": "code",
      "source": [
        ""
      ],
      "execution_count": 0,
      "outputs": []
    }
  ]
}